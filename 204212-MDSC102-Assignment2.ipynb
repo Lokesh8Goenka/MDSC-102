{
 "cells": [
  {
   "cell_type": "code",
   "execution_count": 2,
   "id": "f02f555e",
   "metadata": {},
   "outputs": [],
   "source": [
    "import numpy as np"
   ]
  },
  {
   "cell_type": "code",
   "execution_count": 13,
   "id": "3a31eec1",
   "metadata": {
    "scrolled": true
   },
   "outputs": [
    {
     "data": {
      "text/plain": [
       "array([1, 2, 3, 4, 5])"
      ]
     },
     "execution_count": 13,
     "metadata": {},
     "output_type": "execute_result"
    }
   ],
   "source": [
    "a = np.array([1,2,3,4,5])\n",
    "a"
   ]
  },
  {
   "cell_type": "code",
   "execution_count": 14,
   "id": "857a1d8a",
   "metadata": {},
   "outputs": [
    {
     "data": {
      "text/plain": [
       "['T',\n",
       " '__abs__',\n",
       " '__add__',\n",
       " '__and__',\n",
       " '__array__',\n",
       " '__array_finalize__',\n",
       " '__array_function__',\n",
       " '__array_interface__',\n",
       " '__array_prepare__',\n",
       " '__array_priority__',\n",
       " '__array_struct__',\n",
       " '__array_ufunc__',\n",
       " '__array_wrap__',\n",
       " '__bool__',\n",
       " '__class__',\n",
       " '__class_getitem__',\n",
       " '__complex__',\n",
       " '__contains__',\n",
       " '__copy__',\n",
       " '__deepcopy__',\n",
       " '__delattr__',\n",
       " '__delitem__',\n",
       " '__dir__',\n",
       " '__divmod__',\n",
       " '__dlpack__',\n",
       " '__dlpack_device__',\n",
       " '__doc__',\n",
       " '__eq__',\n",
       " '__float__',\n",
       " '__floordiv__',\n",
       " '__format__',\n",
       " '__ge__',\n",
       " '__getattribute__',\n",
       " '__getitem__',\n",
       " '__getstate__',\n",
       " '__gt__',\n",
       " '__hash__',\n",
       " '__iadd__',\n",
       " '__iand__',\n",
       " '__ifloordiv__',\n",
       " '__ilshift__',\n",
       " '__imatmul__',\n",
       " '__imod__',\n",
       " '__imul__',\n",
       " '__index__',\n",
       " '__init__',\n",
       " '__init_subclass__',\n",
       " '__int__',\n",
       " '__invert__',\n",
       " '__ior__',\n",
       " '__ipow__',\n",
       " '__irshift__',\n",
       " '__isub__',\n",
       " '__iter__',\n",
       " '__itruediv__',\n",
       " '__ixor__',\n",
       " '__le__',\n",
       " '__len__',\n",
       " '__lshift__',\n",
       " '__lt__',\n",
       " '__matmul__',\n",
       " '__mod__',\n",
       " '__mul__',\n",
       " '__ne__',\n",
       " '__neg__',\n",
       " '__new__',\n",
       " '__or__',\n",
       " '__pos__',\n",
       " '__pow__',\n",
       " '__radd__',\n",
       " '__rand__',\n",
       " '__rdivmod__',\n",
       " '__reduce__',\n",
       " '__reduce_ex__',\n",
       " '__repr__',\n",
       " '__rfloordiv__',\n",
       " '__rlshift__',\n",
       " '__rmatmul__',\n",
       " '__rmod__',\n",
       " '__rmul__',\n",
       " '__ror__',\n",
       " '__rpow__',\n",
       " '__rrshift__',\n",
       " '__rshift__',\n",
       " '__rsub__',\n",
       " '__rtruediv__',\n",
       " '__rxor__',\n",
       " '__setattr__',\n",
       " '__setitem__',\n",
       " '__setstate__',\n",
       " '__sizeof__',\n",
       " '__str__',\n",
       " '__sub__',\n",
       " '__subclasshook__',\n",
       " '__truediv__',\n",
       " '__xor__',\n",
       " 'all',\n",
       " 'any',\n",
       " 'argmax',\n",
       " 'argmin',\n",
       " 'argpartition',\n",
       " 'argsort',\n",
       " 'astype',\n",
       " 'base',\n",
       " 'byteswap',\n",
       " 'choose',\n",
       " 'clip',\n",
       " 'compress',\n",
       " 'conj',\n",
       " 'conjugate',\n",
       " 'copy',\n",
       " 'ctypes',\n",
       " 'cumprod',\n",
       " 'cumsum',\n",
       " 'data',\n",
       " 'diagonal',\n",
       " 'dot',\n",
       " 'dtype',\n",
       " 'dump',\n",
       " 'dumps',\n",
       " 'fill',\n",
       " 'flags',\n",
       " 'flat',\n",
       " 'flatten',\n",
       " 'getfield',\n",
       " 'imag',\n",
       " 'item',\n",
       " 'itemset',\n",
       " 'itemsize',\n",
       " 'max',\n",
       " 'mean',\n",
       " 'min',\n",
       " 'nbytes',\n",
       " 'ndim',\n",
       " 'newbyteorder',\n",
       " 'nonzero',\n",
       " 'partition',\n",
       " 'prod',\n",
       " 'ptp',\n",
       " 'put',\n",
       " 'ravel',\n",
       " 'real',\n",
       " 'repeat',\n",
       " 'reshape',\n",
       " 'resize',\n",
       " 'round',\n",
       " 'searchsorted',\n",
       " 'setfield',\n",
       " 'setflags',\n",
       " 'shape',\n",
       " 'size',\n",
       " 'sort',\n",
       " 'squeeze',\n",
       " 'std',\n",
       " 'strides',\n",
       " 'sum',\n",
       " 'swapaxes',\n",
       " 'take',\n",
       " 'tobytes',\n",
       " 'tofile',\n",
       " 'tolist',\n",
       " 'tostring',\n",
       " 'trace',\n",
       " 'transpose',\n",
       " 'var',\n",
       " 'view']"
      ]
     },
     "execution_count": 14,
     "metadata": {},
     "output_type": "execute_result"
    }
   ],
   "source": [
    "dir(a)"
   ]
  },
  {
   "cell_type": "code",
   "execution_count": 91,
   "id": "a56f5055",
   "metadata": {},
   "outputs": [
    {
     "data": {
      "text/plain": [
       "(2, 2)"
      ]
     },
     "execution_count": 91,
     "metadata": {},
     "output_type": "execute_result"
    }
   ],
   "source": [
    "#creating a 2-D array\n",
    "b = np.array([[1,2],[3,4]])\n",
    "b.shape"
   ]
  },
  {
   "cell_type": "code",
   "execution_count": 86,
   "id": "ce44b2bb",
   "metadata": {},
   "outputs": [
    {
     "data": {
      "text/plain": [
       "array([0, 1])"
      ]
     },
     "execution_count": 86,
     "metadata": {},
     "output_type": "execute_result"
    }
   ],
   "source": [
    "c = np.array([0,1])\n",
    "c"
   ]
  },
  {
   "cell_type": "code",
   "execution_count": null,
   "id": "7c1da392",
   "metadata": {},
   "outputs": [],
   "source": [
    "x = "
   ]
  },
  {
   "cell_type": "code",
   "execution_count": 89,
   "id": "9efb21e1",
   "metadata": {},
   "outputs": [
    {
     "data": {
      "text/plain": [
       "(2, 3, 4)"
      ]
     },
     "execution_count": 89,
     "metadata": {},
     "output_type": "execute_result"
    }
   ],
   "source": [
    "#np array of shape(2,3,4) 4-col, 3-rows, \n",
    "c = np.array([[[1,2,3,4], [1,2,3,4], [1,2,3,4]], [[1,2,3,4], [1,2,3,4], [1,2,3,4]]])\n",
    "c.shape"
   ]
  },
  {
   "cell_type": "code",
   "execution_count": 47,
   "id": "3fe3bf9b",
   "metadata": {},
   "outputs": [
    {
     "data": {
      "text/plain": [
       "array([2, 3])"
      ]
     },
     "execution_count": 47,
     "metadata": {},
     "output_type": "execute_result"
    }
   ],
   "source": [
    "#slicing\n",
    "arr = np.array([1,2,3,4,5])\n",
    "arr[1:3] # it starts from 1(index) and goes till 3(index) , with 3 not included"
   ]
  },
  {
   "cell_type": "code",
   "execution_count": 48,
   "id": "5a9f68f1",
   "metadata": {},
   "outputs": [
    {
     "data": {
      "text/plain": [
       "array([2, 3, 4, 5])"
      ]
     },
     "execution_count": 48,
     "metadata": {},
     "output_type": "execute_result"
    }
   ],
   "source": [
    "arr = np.array([1,2,3,4,5])\n",
    "arr[1:] #starts from the first index and goes till the end"
   ]
  },
  {
   "cell_type": "code",
   "execution_count": 49,
   "id": "6fd39567",
   "metadata": {},
   "outputs": [
    {
     "data": {
      "text/plain": [
       "array([1, 2, 3, 4])"
      ]
     },
     "execution_count": 49,
     "metadata": {},
     "output_type": "execute_result"
    }
   ],
   "source": [
    "arr = np.array([1,2,3,4,5])\n",
    "arr[:4] #starts from zero index and goes till 3 (4 not included)"
   ]
  },
  {
   "cell_type": "code",
   "execution_count": 53,
   "id": "91797f97",
   "metadata": {},
   "outputs": [
    {
     "data": {
      "text/plain": [
       "array([2, 4])"
      ]
     },
     "execution_count": 53,
     "metadata": {},
     "output_type": "execute_result"
    }
   ],
   "source": [
    "arr = np.array([1,2,3,4,5,6,7,8,9])\n",
    "arr[1:5:2] # starts from the first index and goes till the fourth with an increment of 2"
   ]
  },
  {
   "cell_type": "code",
   "execution_count": 54,
   "id": "02f67a1b",
   "metadata": {},
   "outputs": [
    {
     "data": {
      "text/plain": [
       "array([7, 8, 9])"
      ]
     },
     "execution_count": 54,
     "metadata": {},
     "output_type": "execute_result"
    }
   ],
   "source": [
    "arr = np.array([[1, 2, 3, 4, 5], [6, 7, 8, 9, 10]])\n",
    "arr[1, 1:4]"
   ]
  },
  {
   "cell_type": "code",
   "execution_count": 58,
   "id": "564e6c94",
   "metadata": {},
   "outputs": [
    {
     "data": {
      "text/plain": [
       "array([3, 8])"
      ]
     },
     "execution_count": 58,
     "metadata": {},
     "output_type": "execute_result"
    }
   ],
   "source": [
    "arr = np.array([[1, 2, 3, 4, 5], [6, 7, 8, 9, 10]])\n",
    "arr[0:2, 2]"
   ]
  },
  {
   "cell_type": "code",
   "execution_count": 59,
   "id": "8aca41ec",
   "metadata": {},
   "outputs": [
    {
     "data": {
      "text/plain": [
       "array([[1, 2],\n",
       "       [6, 7]])"
      ]
     },
     "execution_count": 59,
     "metadata": {},
     "output_type": "execute_result"
    }
   ],
   "source": [
    "arr = np.array([[1, 2, 3, 4, 5], [6, 7, 8, 9, 10]])\n",
    "arr[0:2, 0:2]"
   ]
  },
  {
   "cell_type": "code",
   "execution_count": 60,
   "id": "623c3612",
   "metadata": {},
   "outputs": [
    {
     "data": {
      "text/plain": [
       "dtype('int32')"
      ]
     },
     "execution_count": 60,
     "metadata": {},
     "output_type": "execute_result"
    }
   ],
   "source": [
    "#data types \n",
    "a = np.array([1,2,3,4,5])\n",
    "a.dtype\n",
    "#integer"
   ]
  },
  {
   "cell_type": "code",
   "execution_count": 63,
   "id": "cdf9feca",
   "metadata": {},
   "outputs": [
    {
     "data": {
      "text/plain": [
       "dtype('<U3')"
      ]
     },
     "execution_count": 63,
     "metadata": {},
     "output_type": "execute_result"
    }
   ],
   "source": [
    "b = np.array([\"sai\", \"ram\"])\n",
    "b.dtype\n",
    "#unicode"
   ]
  },
  {
   "cell_type": "code",
   "execution_count": 68,
   "id": "0f970b42",
   "metadata": {},
   "outputs": [
    {
     "data": {
      "text/plain": [
       "dtype('S1')"
      ]
     },
     "execution_count": 68,
     "metadata": {},
     "output_type": "execute_result"
    }
   ],
   "source": [
    "b = np.array([1,2,3,4], dtype = 'S')\n",
    "b.dtype\n",
    "#String"
   ]
  },
  {
   "cell_type": "code",
   "execution_count": 83,
   "id": "75bb3632",
   "metadata": {},
   "outputs": [
    {
     "name": "stdout",
     "output_type": "stream",
     "text": [
      "float64\n",
      "[1 2]\n",
      "int32\n"
     ]
    }
   ],
   "source": [
    "arr = np.array([1.2, 2.6])\n",
    "newarr = arr.astype('i') #typecasting\n",
    "print(arr.dtype)\n",
    "print(newarr)\n",
    "print(newarr.dtype)"
   ]
  },
  {
   "cell_type": "code",
   "execution_count": 87,
   "id": "aadf9479",
   "metadata": {},
   "outputs": [
    {
     "name": "stdout",
     "output_type": "stream",
     "text": [
      "[1.  2.3 0. ]\n",
      "[ True  True False]\n"
     ]
    }
   ],
   "source": [
    "arr = np.array([1,2.3,0])\n",
    "newarr = arr.astype(bool)\n",
    "\n",
    "print(arr)\n",
    "print(newarr)"
   ]
  },
  {
   "cell_type": "code",
   "execution_count": 102,
   "id": "19b185f0",
   "metadata": {},
   "outputs": [
    {
     "data": {
      "text/plain": [
       "array([ 7.+0.j,  4.+0.j, -4.+0.j])"
      ]
     },
     "execution_count": 102,
     "metadata": {},
     "output_type": "execute_result"
    }
   ],
   "source": [
    "c = np.array([7,4,-4], dtype = complex)\n",
    "c"
   ]
  },
  {
   "cell_type": "code",
   "execution_count": 143,
   "id": "2aa52ff0",
   "metadata": {},
   "outputs": [
    {
     "data": {
      "text/plain": [
       "array([[[0., 0., 0.],\n",
       "        [0., 0., 0.]],\n",
       "\n",
       "       [[0., 0., 0.],\n",
       "        [0., 0., 0.]],\n",
       "\n",
       "       [[0., 0., 0.],\n",
       "        [0., 0., 0.]],\n",
       "\n",
       "       [[0., 0., 0.],\n",
       "        [0., 0., 0.]]])"
      ]
     },
     "execution_count": 143,
     "metadata": {},
     "output_type": "execute_result"
    }
   ],
   "source": [
    "x = np.zeros((4,2,3)) #will enter o as the value and default type float\n",
    "x"
   ]
  },
  {
   "cell_type": "code",
   "execution_count": 119,
   "id": "166ae6e8",
   "metadata": {},
   "outputs": [
    {
     "data": {
      "text/plain": [
       "array([[[1, 1, 1],\n",
       "        [1, 1, 1]],\n",
       "\n",
       "       [[1, 1, 1],\n",
       "        [1, 1, 1]],\n",
       "\n",
       "       [[1, 1, 1],\n",
       "        [1, 1, 1]],\n",
       "\n",
       "       [[1, 1, 1],\n",
       "        [1, 1, 1]]])"
      ]
     },
     "execution_count": 119,
     "metadata": {},
     "output_type": "execute_result"
    }
   ],
   "source": [
    "z = np.ones_like((x), dtype = int) # intial value as 1 and type int\n",
    "z"
   ]
  },
  {
   "cell_type": "code",
   "execution_count": 123,
   "id": "686c00bc",
   "metadata": {},
   "outputs": [
    {
     "data": {
      "text/plain": [
       "[0, 1, 2, 3, 4, 5, 6, 7]"
      ]
     },
     "execution_count": 123,
     "metadata": {},
     "output_type": "execute_result"
    }
   ],
   "source": [
    "list(range(8))"
   ]
  },
  {
   "cell_type": "code",
   "execution_count": 133,
   "id": "305fddd7",
   "metadata": {},
   "outputs": [
    {
     "data": {
      "text/plain": [
       "array([0, 2, 4, 6])"
      ]
     },
     "execution_count": 133,
     "metadata": {},
     "output_type": "execute_result"
    }
   ],
   "source": [
    "a = np.arange(0,7,2)\n",
    "a"
   ]
  },
  {
   "cell_type": "code",
   "execution_count": 142,
   "id": "ffc62d75",
   "metadata": {},
   "outputs": [
    {
     "data": {
      "text/plain": [
       "array([0. , 0.5, 1. , 1.5, 2. ])"
      ]
     },
     "execution_count": 142,
     "metadata": {},
     "output_type": "execute_result"
    }
   ],
   "source": [
    "a = np.linspace(0,2,5) # starting , ending, the number of values/parts\n",
    "a"
   ]
  },
  {
   "cell_type": "code",
   "execution_count": 151,
   "id": "397107ff",
   "metadata": {},
   "outputs": [
    {
     "data": {
      "text/plain": [
       "array([[0., 0., 0.],\n",
       "       [0., 1., 2.],\n",
       "       [0., 2., 4.],\n",
       "       [0., 3., 6.]])"
      ]
     },
     "execution_count": 151,
     "metadata": {},
     "output_type": "execute_result"
    }
   ],
   "source": [
    "def f(i,j):\n",
    "    return 1*i*J\n",
    "\n",
    "x = np.fromfunction(f,(4,3)) # to initialize an array from a function\n",
    "x # 4,3 is the dimention of the array"
   ]
  },
  {
   "cell_type": "code",
   "execution_count": 164,
   "id": "ad28c260",
   "metadata": {},
   "outputs": [
    {
     "data": {
      "text/plain": [
       "array([[ 0.,  0.,  0.],\n",
       "       [ 0.,  3.,  6.],\n",
       "       [ 0.,  6., 12.],\n",
       "       [ 0.,  9., 18.]])"
      ]
     },
     "execution_count": 164,
     "metadata": {},
     "output_type": "execute_result"
    }
   ],
   "source": [
    "np.fromfunction(lambda i,j: 3*i*j, (4,3)) #short hand form of from function(4,3)"
   ]
  },
  {
   "cell_type": "code",
   "execution_count": 161,
   "id": "096de0a2",
   "metadata": {},
   "outputs": [
    {
     "name": "stdout",
     "output_type": "stream",
     "text": [
      "[ 1.  4.  9. 16. 25.]\n",
      "[1. 2. 3. 4. 5.]\n"
     ]
    }
   ],
   "source": [
    "#universal functions\n",
    "x = np.linspace(1,5,5)\n",
    "y = x**2\n",
    "print(y)\n",
    "z = np.sqrt(y)\n",
    "print(z)"
   ]
  },
  {
   "cell_type": "code",
   "execution_count": 179,
   "id": "eb323907",
   "metadata": {},
   "outputs": [
    {
     "name": "stdout",
     "output_type": "stream",
     "text": [
      "[[1 2]\n",
      " [3 4]] \n",
      "\n",
      "[[1 3]\n",
      " [2 4]]\n",
      "[[1 2]\n",
      " [3 4]] \n",
      "\n",
      "[[ 1  4]\n",
      " [ 9 16]] \n",
      "\n",
      "[[ 7 10]\n",
      " [15 22]]\n",
      "[[ 7 10]\n",
      " [15 22]]\n"
     ]
    }
   ],
   "source": [
    "#matrix multiply\n",
    "a = np.array(((1,2),(3,4)))\n",
    "print(a,\"\\n\")\n",
    "print(a.T)  #transpose of the matrix\n",
    "b = a\n",
    "print(b,\"\\n\")\n",
    "print(a*b, \"\\n\") #element wise multiplication\n",
    "print(np.matmul(a,b)) #matrix multiplication\n",
    "print(np.dot(a,b))"
   ]
  },
  {
   "cell_type": "code",
   "execution_count": 185,
   "id": "0a04220b",
   "metadata": {},
   "outputs": [
    {
     "data": {
      "text/plain": [
       "array([[8, 1, 6],\n",
       "       [3, 5, 7],\n",
       "       [4, 9, 2]])"
      ]
     },
     "execution_count": 185,
     "metadata": {},
     "output_type": "execute_result"
    }
   ],
   "source": [
    "# Magic square\n",
    "\n",
    "N = 3\n",
    "msqr = np.zeros((N,N), dtype = int)\n",
    "\n",
    "n = 1\n",
    "i, j = 0, N//2\n",
    "\n",
    "while n <= N**2:\n",
    "    msqr[i,j] = n\n",
    "    n += 1\n",
    "    ni, nj = (i-1)%N, (j+1)%N\n",
    "    if msqr[ni, nj]:\n",
    "        i += 1\n",
    "    else:\n",
    "        i, j = ni, nj\n",
    "msqr"
   ]
  },
  {
   "cell_type": "code",
   "execution_count": 192,
   "id": "3112f6d9",
   "metadata": {},
   "outputs": [
    {
     "name": "stdout",
     "output_type": "stream",
     "text": [
      "[[[1 2 3]\n",
      "  [4 5 6]\n",
      "  [7 8 9]]\n",
      "\n",
      " [[1 2 3]\n",
      "  [4 5 6]\n",
      "  [7 8 9]]]\n",
      "[1 2 3 4 5 6 7 8 9 1 2 3 4 5 6 7 8 9]\n",
      "[1 2 3 4 5 6 7 8 9 1 2 3 4 5 6 7 8 9]\n"
     ]
    }
   ],
   "source": [
    "#flaten -> multidimentional array into single axis\n",
    "       #-> two methods flatten and ravel\n",
    "\n",
    "z = np.array([[[1,2,3],[4,5,6],[7,8,9]],[[1,2,3],[4,5,6],[7,8,9]]])\n",
    "x = z.flatten()\n",
    "print(z)\n",
    "print(x)\n",
    "y = z.ravel()\n",
    "print(y)\n",
    "# flatten returns independent copy of the element, slower than ravel."
   ]
  },
  {
   "cell_type": "code",
   "execution_count": 8,
   "id": "9557597a",
   "metadata": {},
   "outputs": [
    {
     "data": {
      "text/plain": [
       "4"
      ]
     },
     "execution_count": 8,
     "metadata": {},
     "output_type": "execute_result"
    }
   ],
   "source": [
    "a =np.array([[[1,2,3],[4,5,6],[7,8,9]],[[1,2,3],[4,5,6],[7,8,9]]])\n",
    "b = a.flatten()\n",
    "b[3]\n"
   ]
  },
  {
   "cell_type": "code",
   "execution_count": 11,
   "id": "8d3c809b",
   "metadata": {},
   "outputs": [
    {
     "data": {
      "text/plain": [
       "array([1, 2, 3, 4, 5, 6, 7, 8, 9, 1, 2, 3, 4, 5, 6, 7, 8, 9])"
      ]
     },
     "execution_count": 11,
     "metadata": {},
     "output_type": "execute_result"
    }
   ],
   "source": [
    "a = np.array([[[1,2,3],[4,5,6],[7,8,9]],[[1,2,3],[4,5,6],[7,8,9]]])\n",
    "c = a.ravel()\n",
    "c\n"
   ]
  },
  {
   "cell_type": "code",
   "execution_count": 30,
   "id": "01b6e76d",
   "metadata": {},
   "outputs": [
    {
     "name": "stdout",
     "output_type": "stream",
     "text": [
      "[[[1 2]\n",
      "  [3 4]]\n",
      "\n",
      " [[5 7]\n",
      "  [6 8]]]\n"
     ]
    }
   ],
   "source": [
    "a = np.array([1,2,3,4,5,7,6,8,9])\n",
    "a.resize(2,2,2)\n",
    "print(a)"
   ]
  },
  {
   "cell_type": "code",
   "execution_count": 36,
   "id": "efe81af2",
   "metadata": {},
   "outputs": [
    {
     "name": "stdout",
     "output_type": "stream",
     "text": [
      "[1. 2. 3. 4. 5. 6. 7. 8.]\n",
      "[[[1. 2.]\n",
      "  [3. 4.]]\n",
      "\n",
      " [[5. 6.]\n",
      "  [7. 8.]]]\n",
      "[[[1. 5.]\n",
      "  [3. 7.]]\n",
      "\n",
      " [[2. 6.]\n",
      "  [4. 8.]]]\n",
      "(2, 2, 2)\n"
     ]
    }
   ],
   "source": [
    "#transposing\n",
    "a = np.linspace(1,8,8)\n",
    "print(a)\n",
    "b = a.reshape(2,2,2)\n",
    "print(b)\n",
    "c = b.transpose()\n",
    "print(c)\n",
    "print(c.shape)\n"
   ]
  },
  {
   "cell_type": "code",
   "execution_count": 39,
   "id": "ea87be8e",
   "metadata": {},
   "outputs": [
    {
     "data": {
      "text/plain": [
       "array([[[0, 4],\n",
       "        [1, 5],\n",
       "        [2, 6],\n",
       "        [3, 7]]])"
      ]
     },
     "execution_count": 39,
     "metadata": {},
     "output_type": "execute_result"
    }
   ],
   "source": [
    "# merge and split\n",
    "\n",
    "a = np.array([0,1,2,3])\n",
    "b = np.array([4,5,6,7])\n",
    "c = np.dstack((a,b)) #stacks arrays depthwise \n",
    "c"
   ]
  },
  {
   "cell_type": "code",
   "execution_count": 42,
   "id": "1bc5932c",
   "metadata": {},
   "outputs": [
    {
     "data": {
      "text/plain": [
       "array([[0, 1, 2, 3],\n",
       "       [4, 5, 6, 7]])"
      ]
     },
     "execution_count": 42,
     "metadata": {},
     "output_type": "execute_result"
    }
   ],
   "source": [
    "c = np.vstack((a,b)) # stacks arrays vertically/ in sequential rows\n",
    "c"
   ]
  },
  {
   "cell_type": "code",
   "execution_count": 44,
   "id": "73d4deba",
   "metadata": {},
   "outputs": [
    {
     "data": {
      "text/plain": [
       "array([0, 1, 2, 3, 4, 5, 6, 7])"
      ]
     },
     "execution_count": 44,
     "metadata": {},
     "output_type": "execute_result"
    }
   ],
   "source": [
    "c =np.hstack((a,b)) # stacks arrays horizontally/ in sequential columns\n",
    "c"
   ]
  },
  {
   "cell_type": "code",
   "execution_count": 53,
   "id": "a2d4228e",
   "metadata": {},
   "outputs": [
    {
     "name": "stdout",
     "output_type": "stream",
     "text": [
      "[[ 0  1  2  3]\n",
      " [ 4  5  6  7]\n",
      " [ 8  9 10 11]\n",
      " [12 13 14 15]]\n",
      "[array([[0, 1, 2, 3],\n",
      "       [4, 5, 6, 7]]), array([[ 8,  9, 10, 11],\n",
      "       [12, 13, 14, 15]])]\n"
     ]
    }
   ],
   "source": [
    "d = np.arange(16).reshape(4,4)\n",
    "print(d)\n",
    "e = np.hsplit(d,2) #???\n",
    "print(e)\n",
    "f = np.vsplit(d,2) \n",
    "print(f)"
   ]
  },
  {
   "cell_type": "code",
   "execution_count": 67,
   "id": "b674ac08",
   "metadata": {},
   "outputs": [
    {
     "name": "stdout",
     "output_type": "stream",
     "text": [
      "[ 1.  2.  3.  4.  5.  6.  7.  8.  9. 10.]\n",
      "[2. 4.]\n"
     ]
    }
   ],
   "source": [
    "a = np.linspace(1,10,10)\n",
    "print(a)\n",
    "print(a[1:5:2])# (start, end(not iclusive), jump to next)"
   ]
  },
  {
   "cell_type": "code",
   "execution_count": 83,
   "id": "3e64c514",
   "metadata": {},
   "outputs": [
    {
     "name": "stdout",
     "output_type": "stream",
     "text": [
      "[[ 1.  2.  3.]\n",
      " [ 4.  5.  6.]\n",
      " [ 7.  8.  9.]\n",
      " [10. 11. 12.]]\n",
      "[[10. 11. 12.]]\n",
      "[[ 7.  8.  9.]\n",
      " [10. 11. 12.]]\n",
      "[ 2.  5.  8. 11.]\n",
      "[ 1.  4.  7. 10.]\n"
     ]
    }
   ],
   "source": [
    "a = np.linspace(1,12,12).reshape(4,3)\n",
    "print(a)\n",
    "print(a[3:4]) # third row strat is not included\n",
    "print(a[2:]) # second and third row\n",
    "\n",
    "print(a[:,1]) # 2nd col\n",
    "print(a[:,0]) # 1st col"
   ]
  },
  {
   "cell_type": "code",
   "execution_count": 84,
   "id": "b1dafb02",
   "metadata": {},
   "outputs": [
    {
     "name": "stdout",
     "output_type": "stream",
     "text": [
      "[ 1.  2.  3.  4.  5.  6.  7.  8.  9. 10.]\n",
      "[2. 6. 8.]\n"
     ]
    }
   ],
   "source": [
    "a = np.linspace(1,10,10)\n",
    "print(a)\n",
    "ia = [1,5,7] # index\n",
    "print(a[ia]) #printing index 1,5,7"
   ]
  },
  {
   "cell_type": "code",
   "execution_count": 86,
   "id": "e6494efc",
   "metadata": {},
   "outputs": [
    {
     "name": "stdout",
     "output_type": "stream",
     "text": [
      "[[2. 4.]\n",
      " [6. 8.]\n",
      " [3. 4.]]\n"
     ]
    }
   ],
   "source": [
    "ia = np.array(((1,3),(5,7),(2,3)))# (1,3), (5,7), (2,3) as independent rows of a matrix\n",
    "print(a[ia]) "
   ]
  },
  {
   "cell_type": "code",
   "execution_count": 88,
   "id": "036ba371",
   "metadata": {},
   "outputs": [
    {
     "name": "stdout",
     "output_type": "stream",
     "text": [
      "[ 4  2  7  1  9 23  5]\n",
      "[ 1  2  4  5  7  9 23]\n"
     ]
    }
   ],
   "source": [
    "# sorting array\n",
    "\n",
    "a = np.array([4,2,7,1,9,23,5])\n",
    "print(a)\n",
    "a.sort() #sort the array in ascending order\n",
    "print(a)\n"
   ]
  },
  {
   "cell_type": "code",
   "execution_count": 102,
   "id": "88fd6fb2",
   "metadata": {},
   "outputs": [
    {
     "name": "stdout",
     "output_type": "stream",
     "text": [
      "[[ 1 25 12]\n",
      " [ 1  5  2]\n",
      " [ 3  9  2]]\n",
      "[[ 1 12 25]\n",
      " [ 1  2  5]\n",
      " [ 2  3  9]]\n"
     ]
    }
   ],
   "source": [
    "a = np.array([[1,25,12],[1,5,2],[3,9,2]])\n",
    "print(a)\n",
    "a.sort() # sorting all the rows\n",
    "print(a)"
   ]
  },
  {
   "cell_type": "code",
   "execution_count": 104,
   "id": "3e046914",
   "metadata": {},
   "outputs": [
    {
     "name": "stdout",
     "output_type": "stream",
     "text": [
      "[[ 1  2  5]\n",
      " [ 1  3  9]\n",
      " [ 2 12 25]]\n"
     ]
    }
   ],
   "source": [
    "a.sort(axis=0) # sorting every row\n",
    "print(a)"
   ]
  },
  {
   "cell_type": "code",
   "execution_count": 109,
   "id": "72957fd0",
   "metadata": {},
   "outputs": [
    {
     "data": {
      "text/plain": [
       "array([5, 2, 6, 0, 3, 1, 7, 4], dtype=int64)"
      ]
     },
     "execution_count": 109,
     "metadata": {},
     "output_type": "execute_result"
    }
   ],
   "source": [
    "a = np.array([3,6,2,5,67,1,2,6,])\n",
    "np.argsort(a) #prints the index instead of the values"
   ]
  },
  {
   "cell_type": "code",
   "execution_count": 116,
   "id": "3b9bed7d",
   "metadata": {},
   "outputs": [
    {
     "name": "stdout",
     "output_type": "stream",
     "text": [
      "1\n",
      "67\n",
      "4\n",
      "[ 4  6  7  5 67 23  5 34]\n"
     ]
    }
   ],
   "source": [
    "# statistics\n",
    "a = np.array([3,6,2,5,67,1,2,6,])\n",
    "b = np.array([4,2,7,1,9,23,5,34])\n",
    "print(np.min(a)) #prints the min element\n",
    "print(np.max(a)) #prints the max element\n",
    "print(np.argmax(a)) #print the index of the max value i.e 67\n",
    "c = np.fmax(a,b) #returns the max element of the two arrays\n",
    "print(c)         #element wise comparison"
   ]
  },
  {
   "cell_type": "code",
   "execution_count": 117,
   "id": "b09a23e8",
   "metadata": {},
   "outputs": [
    {
     "data": {
      "text/plain": [
       "8.75"
      ]
     },
     "execution_count": 117,
     "metadata": {},
     "output_type": "execute_result"
    }
   ],
   "source": [
    "#percentiles\n",
    "a = np.array([[1,25,4,8,12],[1,5,3,9,2]])\n",
    "np.percentile(a,75) # returns the 75th percentile of a"
   ]
  },
  {
   "cell_type": "code",
   "execution_count": 125,
   "id": "28c37f0f",
   "metadata": {},
   "outputs": [
    {
     "name": "stdout",
     "output_type": "stream",
     "text": [
      "10.0\n",
      "8.0\n",
      "8.366600265340756\n",
      "70.0\n"
     ]
    }
   ],
   "source": [
    "#sample statistics\n",
    "x = np.array([[1,25,4,8,12]])\n",
    "print(np.mean(x)) #mean of the array\n",
    "print(np.median(x))\n",
    "print(np.std(x)) #standard deviation\n",
    "print(np.var(x)) # variance"
   ]
  },
  {
   "cell_type": "code",
   "execution_count": null,
   "id": "6a8db9b4",
   "metadata": {},
   "outputs": [],
   "source": []
  }
 ],
 "metadata": {
  "kernelspec": {
   "display_name": "Python 3 (ipykernel)",
   "language": "python",
   "name": "python3"
  },
  "language_info": {
   "codemirror_mode": {
    "name": "ipython",
    "version": 3
   },
   "file_extension": ".py",
   "mimetype": "text/x-python",
   "name": "python",
   "nbconvert_exporter": "python",
   "pygments_lexer": "ipython3",
   "version": "3.11.1"
  }
 },
 "nbformat": 4,
 "nbformat_minor": 5
}
